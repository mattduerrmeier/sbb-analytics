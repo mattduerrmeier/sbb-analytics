{
 "cells": [
  {
   "cell_type": "markdown",
   "id": "b9eaa0db-2ece-4722-8380-510700bc6d9b",
   "metadata": {},
   "source": [
    "# 1. Imports and Loading the Network"
   ]
  },
  {
   "cell_type": "code",
   "execution_count": 1,
   "id": "initial_id",
   "metadata": {
    "ExecuteTime": {
     "end_time": "2024-05-18T18:12:23.248501Z",
     "start_time": "2024-05-18T18:12:20.096459Z"
    }
   },
   "outputs": [],
   "source": [
    "import matplotlib.pyplot as plt\n",
    "import matplotlib.ticker as ticker\n",
    "import networkx as nx\n",
    "import pandas as pd\n",
    "import numpy as np"
   ]
  },
  {
   "cell_type": "code",
   "execution_count": 2,
   "id": "54bf95ed-350b-4058-8e10-321af0450c9c",
   "metadata": {
    "ExecuteTime": {
     "end_time": "2024-05-18T18:12:47.819420Z",
     "start_time": "2024-05-18T18:12:47.687140Z"
    }
   },
   "outputs": [],
   "source": [
    "G = nx.read_edgelist(\"data/sbb.edgelist\", delimiter=\";\", create_using=nx.Graph)\n",
    "\n",
    "connected_comp = nx.connected_components(G)\n",
    "max_connected_comp = max(connected_comp)\n",
    "G = G.subgraph(max_connected_comp)"
   ]
  },
  {
   "cell_type": "markdown",
   "id": "605e58d9-229c-4798-883d-1c73c1603233",
   "metadata": {},
   "source": [
    "# 2. Benchmark: Iteration Time, Silhouette Index and Modularity"
   ]
  },
  {
   "cell_type": "code",
   "execution_count": 3,
   "id": "e5435d66-d404-40e9-9575-6f28fd89b9ca",
   "metadata": {
    "ExecuteTime": {
     "end_time": "2024-05-18T18:12:52.844887Z",
     "start_time": "2024-05-18T18:12:50.745345Z"
    }
   },
   "outputs": [],
   "source": [
    "from sklearn.metrics import silhouette_score\n",
    "import time\n",
    "import os\n",
    "\n",
    "# create directory to save benchmarks results\n",
    "if not os.path.exists(\"data/benchmarks\"):\n",
    "    os.makedirs(\"data/benchmarks\")\n",
    "\n",
    "\n",
    "def multi_iter_benchmark(G, community_detec_func, iters=10, time_threshold=12, leiden=False):\n",
    "    times = []\n",
    "    scores = []\n",
    "    modularities = []\n",
    "    \n",
    "    for _ in range(iters):\n",
    "        partitions = community_detec_func(G)\n",
    "        t, s, m = single_iter_benchmark(G, partitions, time_threshold, leiden)\n",
    "        times.append(t)\n",
    "        scores.append(s)\n",
    "        modularities.append(m)\n",
    "\n",
    "    max_len_iteration = max([len(t) for t in times])\n",
    "    \n",
    "    for (t, s, m) in zip(times, scores, modularities):\n",
    "        while len(t) < max_len_iteration:\n",
    "            t.append(np.nan)\n",
    "            s.append(np.nan)\n",
    "            m.append(np.nan)\n",
    "\n",
    "    mean_times = np.nanmean(times, axis=0)\n",
    "    mean_scores = np.nanmean(scores, axis=0)\n",
    "    mean_modularities = np.nanmean(modularities, axis=0)\n",
    "\n",
    "    return mean_times, mean_scores, mean_modularities\n",
    "\n",
    "# iteration benchmarking function\n",
    "# you must give it a partition scheme before entering the function\n",
    "# time_threshold is the maximum number of hours the benchmark should run for. Useful for Girvan-Newman\n",
    "def single_iter_benchmark(G, partitions, time_threshold=12, leiden=False):\n",
    "    timeout = time.time() + 60 * 60 * time_threshold\n",
    "\n",
    "    i_time = []\n",
    "    i_silhouette = []\n",
    "    i_modularity = []\n",
    "    \n",
    "    while True:\n",
    "        # Timeout necessary for Girvan Newman\n",
    "        if time.time() > timeout:\n",
    "            break\n",
    "            \n",
    "        start = time.time()\n",
    "        communities = next(partitions, 'finished')\n",
    "        stop = time.time()\n",
    "        \n",
    "        if communities == 'finished':\n",
    "            break\n",
    "        \n",
    "        time_diff = stop - start\n",
    "        i_time.append(time_diff)\n",
    "\n",
    "        # Necessary for leiden: convert node ids to node names\n",
    "        if leiden == True:\n",
    "            communities = convert_leiden(G, communities)\n",
    "        \n",
    "        i_silhouette.append(silhouette_fn(G, communities))\n",
    "        i_modularity.append(nx.community.modularity(G, communities))\n",
    "        \n",
    "        final_communities = communities\n",
    "        \n",
    "    return i_time, i_silhouette, i_modularity\n",
    "\n",
    "\n",
    "# silhouette score function\n",
    "def silhouette_fn(G, found_communities):\n",
    "    # make a dictionary with node as key and final community as value\n",
    "    node_to_community = {node: comm_idx for comm_idx, community in enumerate(found_communities) for node in community}\n",
    "    # list all final communities by indexing with keys\n",
    "    comm_labels = [node_to_community[node] for node in G.nodes()]\n",
    "    \n",
    "    # calc silhouette score by inputting graph as an array and the communities as labels\n",
    "    sil_score = silhouette_score(nx.to_numpy_array(G), comm_labels, metric='euclidean', random_state=42)\n",
    "    return sil_score"
   ]
  },
  {
   "cell_type": "markdown",
   "id": "b477310b-8227-42fc-a25d-4befaaed9279",
   "metadata": {},
   "source": [
    "## 2.1 Louvain"
   ]
  },
  {
   "cell_type": "code",
   "execution_count": 4,
   "id": "4a1b9ca0-f9e3-48da-a110-a8e7fff6ac27",
   "metadata": {},
   "outputs": [
    {
     "data": {
      "text/html": [
       "<div>\n",
       "<style scoped>\n",
       "    .dataframe tbody tr th:only-of-type {\n",
       "        vertical-align: middle;\n",
       "    }\n",
       "\n",
       "    .dataframe tbody tr th {\n",
       "        vertical-align: top;\n",
       "    }\n",
       "\n",
       "    .dataframe thead th {\n",
       "        text-align: right;\n",
       "    }\n",
       "</style>\n",
       "<table border=\"1\" class=\"dataframe\">\n",
       "  <thead>\n",
       "    <tr style=\"text-align: right;\">\n",
       "      <th></th>\n",
       "      <th>time</th>\n",
       "      <th>silhouette</th>\n",
       "      <th>modularity</th>\n",
       "    </tr>\n",
       "  </thead>\n",
       "  <tbody>\n",
       "    <tr>\n",
       "      <th>0</th>\n",
       "      <td>0.184504</td>\n",
       "      <td>-0.063911</td>\n",
       "      <td>0.560196</td>\n",
       "    </tr>\n",
       "    <tr>\n",
       "      <th>1</th>\n",
       "      <td>0.049644</td>\n",
       "      <td>-0.021649</td>\n",
       "      <td>0.818520</td>\n",
       "    </tr>\n",
       "    <tr>\n",
       "      <th>2</th>\n",
       "      <td>0.017919</td>\n",
       "      <td>-0.058597</td>\n",
       "      <td>0.896203</td>\n",
       "    </tr>\n",
       "    <tr>\n",
       "      <th>3</th>\n",
       "      <td>0.005718</td>\n",
       "      <td>-0.068911</td>\n",
       "      <td>0.906182</td>\n",
       "    </tr>\n",
       "    <tr>\n",
       "      <th>4</th>\n",
       "      <td>0.002111</td>\n",
       "      <td>-0.068969</td>\n",
       "      <td>0.906309</td>\n",
       "    </tr>\n",
       "  </tbody>\n",
       "</table>\n",
       "</div>"
      ],
      "text/plain": [
       "       time  silhouette  modularity\n",
       "0  0.184504   -0.063911    0.560196\n",
       "1  0.049644   -0.021649    0.818520\n",
       "2  0.017919   -0.058597    0.896203\n",
       "3  0.005718   -0.068911    0.906182\n",
       "4  0.002111   -0.068969    0.906309"
      ]
     },
     "execution_count": 4,
     "metadata": {},
     "output_type": "execute_result"
    }
   ],
   "source": [
    "t, s, m = multi_iter_benchmark(G, nx.community.louvain_partitions)\n",
    "\n",
    "louvain_bench = pd.DataFrame(zip(t, s, m), columns=[\"time\", \"silhouette\", \"modularity\"])\n",
    "#louvain_bench.to_csv(\"./data/benchmarks/louvain.csv\", index=False)\n",
    "louvain_bench"
   ]
  },
  {
   "cell_type": "markdown",
   "id": "b30d39a54a53c6f4",
   "metadata": {
    "collapsed": false,
    "jupyter": {
     "outputs_hidden": false
    }
   },
   "source": [
    "## 2.2 Louvain Implementation"
   ]
  },
  {
   "cell_type": "code",
   "execution_count": null,
   "id": "32b71913b8bab815",
   "metadata": {
    "ExecuteTime": {
     "end_time": "2024-05-20T07:55:43.431713Z",
     "start_time": "2024-05-20T07:55:31.640393Z"
    },
    "collapsed": false,
    "jupyter": {
     "outputs_hidden": false
    }
   },
   "outputs": [],
   "source": [
    "from louvain import louvain_generator\n",
    "\n",
    "G = nx.read_edgelist(\"data/sbb.edgelist\", delimiter=\";\", create_using=nx.Graph)\n",
    "connected_comp = nx.connected_components(G)\n",
    "max_connected_comp = max(connected_comp)\n",
    "sub_G = G.subgraph(max_connected_comp)\n",
    "G = nx.Graph(sub_G)\n",
    "\n",
    "louvain_imp_partitions = louvain_generator(G)\n",
    "t, s, m = iter_benchmark(G, louvain_imp_partitions)\n",
    "\n",
    "louvain_imp_bench = pd.DataFrame(zip(t, s, m), columns=[\"time\", \"silhouette\", \"modularity\"])\n",
    "louvain_imp_bench.to_csv(\"./data/benchmarks/louvain_imp.csv\", index=False)"
   ]
  },
  {
   "cell_type": "markdown",
   "id": "b76e9247-910f-4c22-84a0-2b92ba516fa7",
   "metadata": {},
   "source": [
    "## 2.3 Girvan-Newman"
   ]
  },
  {
   "cell_type": "code",
   "execution_count": null,
   "id": "b70463f5-6dc9-4d3e-9151-fa1168b9a1ce",
   "metadata": {
    "ExecuteTime": {
     "end_time": "2024-05-20T05:06:19.516724Z",
     "start_time": "2024-05-19T21:06:19.047125Z"
    }
   },
   "outputs": [],
   "source": [
    "gn_partitions = nx.community.girvan_newman(G)\n",
    "t, s, m = iter_benchmark(G, gn_partitions, time_threshold=8)\n",
    "\n",
    "gn_bench = pd.DataFrame(zip(t, s, m), columns=[\"time\", \"silhouette\", \"modularity\"])\n",
    "gn_bench.to_csv(\"./data/benchmarks/girvan-newman.csv\", index=False)"
   ]
  },
  {
   "cell_type": "markdown",
   "id": "dabee719-3f87-40ea-b359-3ce76f7a6026",
   "metadata": {},
   "source": [
    "## 2.4 Leiden"
   ]
  },
  {
   "cell_type": "code",
   "execution_count": null,
   "id": "41b2e85d-5f50-4cde-9346-6d29da81d9af",
   "metadata": {},
   "outputs": [],
   "source": [
    "import leidenalg as la\n",
    "import igraph as ig\n",
    "\n",
    "\n",
    "def convert_leiden(G, partition):\n",
    "    idx2name = {idx: name for idx, name in enumerate(list(G.nodes))}\n",
    "    \n",
    "    communities = []\n",
    "    for comm in partition:\n",
    "        communities.append({idx2name[n] for n in comm})\n",
    "        \n",
    "    return communities\n",
    "\n",
    "\n",
    "def leiden_gen(G):\n",
    "    graph = ig.Graph.from_networkx(G, vertex_attr_hashable='name')\n",
    "\n",
    "    # create the partition with every node as its community\n",
    "    partition = la.ModularityVertexPartition(graph)\n",
    "    optimiser = la.Optimiser()\n",
    "        \n",
    "    diff = 1\n",
    "    while diff > 0:\n",
    "        diff = optimiser.optimise_partition(partition)\n",
    "        yield partition"
   ]
  },
  {
   "cell_type": "code",
   "execution_count": null,
   "id": "8c7ab41e-562f-4ff2-9f1f-fb1575e85199",
   "metadata": {},
   "outputs": [],
   "source": [
    "t, s, m = multi_iter_benchmark(G,leiden_gen, leiden=True)\n",
    "\n",
    "leiden_bench = pd.DataFrame(zip(t, s, m), columns=[\"time\", \"silhouette\", \"modularity\"])"
   ]
  },
  {
   "cell_type": "code",
   "execution_count": null,
   "id": "7b6e547d-ce8a-4cc2-8e87-693260f4e7ba",
   "metadata": {},
   "outputs": [],
   "source": [
    "leiden_bench"
   ]
  },
  {
   "cell_type": "code",
   "execution_count": null,
   "id": "1540fa78-10f0-4f14-a9c6-6cac2043e47e",
   "metadata": {},
   "outputs": [],
   "source": [
    "leiden_bench = pd.DataFrame(zip(t, s, m), columns=[\"time\", \"silhouette\", \"modularity\"])\n",
    "leiden_bench.to_csv(\"./data/benchmarks/leiden.csv\", index=False)"
   ]
  },
  {
   "cell_type": "code",
   "execution_count": null,
   "id": "d755b30b-5eea-4eb8-9398-f0354a224427",
   "metadata": {},
   "outputs": [],
   "source": [
    "plot_bench_results([louvain_bench, leiden_bench], [\"Louvain\", \"Leiden\"])"
   ]
  },
  {
   "cell_type": "markdown",
   "id": "a8553623-cfe7-4b1f-9aa2-dea43abc7be9",
   "metadata": {},
   "source": [
    "# 3. Evaluation of the Community Detection Algorithms"
   ]
  },
  {
   "cell_type": "code",
   "execution_count": null,
   "id": "a50cb8e6-2d1e-4cee-b300-2cbf3ea9bcec",
   "metadata": {},
   "outputs": [],
   "source": [
    "def plot_bench_results(df_list, labels):\n",
    "    fig, axs = plt.subplots(nrows=1, ncols=len(df_list[0].columns), figsize=(18, 6), layout=\"tight\")\n",
    "    # iterate over the columns\n",
    "    for i, col in enumerate(df_list[0].columns):\n",
    "        # iterate over the dataframe: all in the same plot\n",
    "        for df, label in zip(df_list, labels):\n",
    "            axs[i].plot(df[col], label=label)\n",
    "        \n",
    "        axs[i].set_xlabel('Iteration')\n",
    "        axs[i].set_ylabel(col)\n",
    "        axs[i].set_title(f'{col} v. Iteration')\n",
    "            # force int on x-axis\n",
    "        axs[i].xaxis.set_major_locator(ticker.MaxNLocator(integer=True))\n",
    "        axs[i].legend()\n",
    "    \n",
    "    plt.savefig(\"community-detection-benchmarks.png\")\n",
    "    plt.show()"
   ]
  },
  {
   "cell_type": "code",
   "execution_count": null,
   "id": "b4fe1e05-2299-4132-889b-def8a0b37ba4",
   "metadata": {},
   "outputs": [],
   "source": [
    "louvain_bench = pd.read_csv(\"data/benchmarks/louvain.csv\")\n",
    "louvain_imp_bench = pd.read_csv(\"data/benchmarks/louvain_imp.csv\")\n",
    "gn_bench = pd.read_csv(\"data/benchmarks/girvan-newman.csv\")\n",
    "leiden_bench = pd.read_csv(\"data/benchmarks/leiden.csv\")\n",
    "\n",
    "algorithm_data = [louvain_bench, louvain_imp_bench, leiden_bench, gn_bench[:9]]\n",
    "algorithm_name = [\"Louvain\", \"Louvain Implementation\", \"Leiden\", \"Girvan-Newman\"]\n",
    "\n",
    "plot_bench_results(algorithm_data, algorithm_name)"
   ]
  },
  {
   "cell_type": "code",
   "execution_count": null,
   "id": "9c746a48-67fc-4f3f-ac6b-307e54685359",
   "metadata": {
    "ExecuteTime": {
     "end_time": "2024-05-13T06:13:26.877549Z",
     "start_time": "2024-05-13T06:13:25.260605Z"
    },
    "collapsed": false,
    "jupyter": {
     "outputs_hidden": false
    }
   },
   "outputs": [],
   "source": [
    "# we should be able to safely remove this\n",
    "# kept just in case\n",
    "def eval_plots(*datasets, tick_int):\n",
    "    for i, (data, label, ylabel) in enumerate(datasets):\n",
    "        for d, l in zip(data, label): \n",
    "            ax[i].plot(d, label=l)\n",
    "        ax[i].set_xlabel('Iterations')\n",
    "        ax[i].set_ylabel(ylabel)\n",
    "        ax[i].set_title(f'{ylabel} vs Iterations')\n",
    "        ax[i].xaxis.set_major_locator(ticker.MultipleLocator(tick_int))\n",
    "        ax[i].legend()\n",
    "        \n",
    "    plt.tight_layout()\n",
    "    plt.show()\n",
    "\n",
    "\n",
    "\n",
    "\n",
    "#fig, ax = plt.subplots(1, 3, figsize=(12, 6))\n",
    "\n",
    "# Plotting with variable names as legend labels\n",
    "#eval_plots(((nx_lou_m_times, nx_gn_m_times[:nx_lou_times.shape[1]]), ('NetworkX Louvain', 'NetworkX Girvan Newman'), 'Time (s)'),\n",
    "            #((nx_lou_m_sil, nx_gn_m_sil[:nx_lou_times.shape[1]]), ('NetworkX Louvain', 'NetworkX Girvan Newman'), 'Silhouette Score'),\n",
    "            #((nx_lou_m_mod, nx_gn_m_mod[:nx_lou_times.shape[1]]), ('NetworkX Louvain', 'NetworkX Girvan Newman'), 'Modularity Score'), \n",
    "           #tick_int=1)\n",
    "\n",
    "\n",
    "# Just Girvan Newman plots\n",
    "# read nx gn csvs\n",
    "nx_gn_times = pd.read_csv(\"data/communities/nx_gn_iteration_times.csv\")\n",
    "nx_gn_m_times = nx_gn_times.mean(axis='rows')\n",
    "\n",
    "nx_gn_sil = pd.read_csv(\"data/communities/nx_gn_silhouette_scores_per_iteration.csv\")\n",
    "nx_gn_m_sil = nx_gn_sil.mean(axis='rows')\n",
    "\n",
    "nx_gn_mod = pd.read_csv(\"data/communities/nx_gn_modularity_scores_per_iteration.csv\")\n",
    "nx_gn_m_mod = nx_gn_mod.mean(axis='rows')\n",
    "\n",
    "fig, ax = plt.subplots(3, 1, figsize=(12, 12))\n",
    "\n",
    "eval_plots(((nx_gn_m_times,), ('NetworkX Girvan Newman',), 'Time (s)'),\n",
    "            ((nx_gn_m_sil,), ('NetworkX Girvan Newman',), 'Silhouette Score'),\n",
    "            ((nx_gn_m_mod,), ('NetworkX Girvan Newman',), 'Modularity Score'),\n",
    "           tick_int=200)\n"
   ]
  }
 ],
 "metadata": {
  "kernelspec": {
   "display_name": "Python 3 (ipykernel)",
   "language": "python",
   "name": "python3"
  },
  "language_info": {
   "codemirror_mode": {
    "name": "ipython",
    "version": 3
   },
   "file_extension": ".py",
   "mimetype": "text/x-python",
   "name": "python",
   "nbconvert_exporter": "python",
   "pygments_lexer": "ipython3",
   "version": "3.10.12"
  }
 },
 "nbformat": 4,
 "nbformat_minor": 5
}
