{
 "cells": [
  {
   "cell_type": "markdown",
   "id": "2dac736355eb5cfe",
   "metadata": {
    "collapsed": false
   },
   "source": [
    "# Imports and Loading the Network"
   ]
  },
  {
   "cell_type": "code",
   "execution_count": 2,
   "id": "4891d600f13ba914",
   "metadata": {
    "collapsed": false,
    "ExecuteTime": {
     "end_time": "2024-05-11T15:40:31.678099Z",
     "start_time": "2024-05-11T15:40:29.612109Z"
    }
   },
   "outputs": [],
   "source": [
    "import numpy as np\n",
    "import pandas as pd\n",
    "import networkx as nx\n",
    "import matplotlib.pyplot as plt"
   ]
  },
  {
   "cell_type": "markdown",
   "id": "9e4eaa01-556d-4e6f-af80-8b877b3602bc",
   "metadata": {},
   "source": [
    "The graph is loaded from the `sbb.edgelist`.\n",
    "Make sure to create this edgelist through the `create_edgelist.py` script."
   ]
  },
  {
   "cell_type": "code",
   "execution_count": 3,
   "id": "22ca91dce5b440b4",
   "metadata": {
    "collapsed": false,
    "ExecuteTime": {
     "end_time": "2024-05-11T15:40:31.789193Z",
     "start_time": "2024-05-11T15:40:31.683943Z"
    }
   },
   "outputs": [],
   "source": [
    "G = nx.read_edgelist(\"sbb.edgelist\", delimiter=\";\", create_using=nx.Graph)"
   ]
  },
  {
   "cell_type": "markdown",
   "id": "49e8662d72e75692",
   "metadata": {
    "collapsed": false
   },
   "source": [
    "# 1. Network Exploration"
   ]
  },
  {
   "cell_type": "code",
   "execution_count": 4,
   "id": "7535b07c-f8ab-4fa4-9cab-57067a62a611",
   "metadata": {
    "collapsed": false,
    "ExecuteTime": {
     "end_time": "2024-05-11T15:40:32.279795Z",
     "start_time": "2024-05-11T15:40:32.270705Z"
    }
   },
   "outputs": [
    {
     "name": "stdout",
     "output_type": "stream",
     "text": [
      "number of nodes: 3473\n",
      "number of edges: 8610\n"
     ]
    }
   ],
   "source": [
    "print(f\"number of nodes: {len(G.nodes)}\")\n",
    "print(f\"number of edges: {len(G.edges)}\")"
   ]
  },
  {
   "cell_type": "markdown",
   "id": "6550b205-ec2e-46c1-b450-d81e07213480",
   "metadata": {},
   "source": [
    "## Degrees: Minimum and Maximum"
   ]
  },
  {
   "cell_type": "code",
   "execution_count": 5,
   "id": "f698228c-2c51-42f0-8a06-8b90caeaf648",
   "metadata": {
    "ExecuteTime": {
     "end_time": "2024-05-11T15:40:34.020328Z",
     "start_time": "2024-05-11T15:40:33.998722Z"
    }
   },
   "outputs": [],
   "source": [
    "degrees = dict(G.degree())\n",
    "\n",
    "sorted_degrees = sorted(degrees.items(), key=lambda x: x[1])"
   ]
  },
  {
   "cell_type": "code",
   "execution_count": 7,
   "id": "7b8d255d-38e5-4d04-b1a6-93d0f3df8e35",
   "metadata": {
    "collapsed": false,
    "ExecuteTime": {
     "end_time": "2024-05-11T15:41:56.762950Z",
     "start_time": "2024-05-11T15:41:56.752555Z"
    }
   },
   "outputs": [
    {
     "name": "stdout",
     "output_type": "stream",
     "text": [
      "Minimum degree: Uetliberg with degree 1\n",
      "Maximum degree: Zürich HB with degree 102\n",
      "Top 10 degree: [('Dijon', 52), ('Lausanne', 54), ('St. Gallen', 55), ('Winterthur', 64), ('Luzern', 65), ('Bern', 67), ('Olten', 71), ('Strasbourg', 73), ('Lyon Part Dieu', 75), ('Zürich HB', 102)]\n",
      "Bottom 10 degrees: [('Uetliberg', 1), ('Orbe', 1), ('Ste-Croix', 1), ('St. Urban Ziegelei', 1), ('Arosa', 1), ('Broc-Chocolaterie', 1), ('Bludenz', 1), ('Balsthal', 1), ('Corcelles-Peseux', 1), ('Altstätten Stadt', 1)]\n",
      "Number of stations with degree of 1: 83\n"
     ]
    }
   ],
   "source": [
    "# min degree\n",
    "min_degree = sorted_degrees[0]\n",
    "print(f\"Minimum degree: {min_degree[0]} with degree {min_degree[1]}\")\n",
    "\n",
    "# max degree\n",
    "max_degree = sorted_degrees[-1]\n",
    "print(f\"Maximum degree: {max_degree[0]} with degree {max_degree[1]}\")\n",
    "\n",
    "# top 10 min degree\n",
    "bottom10_min_degree = sorted_degrees[0:10]\n",
    "\n",
    "# top 10 max degree\n",
    "top10_max_degree = sorted_degrees[-10:]\n",
    "\n",
    "print(f\"Top 10 degree: {top10_max_degree}\")\n",
    "print(f\"Bottom 10 degrees: {bottom10_min_degree}\")\n",
    "\n",
    "min_degree_nodes = [k for (k, v) in sorted_degrees if v == 1]\n",
    "print(\"Number of stations with degree of 1:\", len(min_degree_nodes))"
   ]
  },
  {
   "cell_type": "markdown",
   "id": "33050a8a-0428-4763-ac69-450f39cf55b6",
   "metadata": {},
   "source": [
    "## Centrality Measures\n",
    "\n",
    "### Betweeness Centrality\n",
    "\n",
    "The node that acts as a bridge, broker or gatekeeper."
   ]
  },
  {
   "cell_type": "code",
   "execution_count": 12,
   "id": "f318d663-ab1c-4052-8056-857d7a74069b",
   "metadata": {
    "collapsed": false,
    "ExecuteTime": {
     "end_time": "2024-05-11T15:45:17.671783Z",
     "start_time": "2024-05-11T15:44:13.760492Z"
    }
   },
   "outputs": [],
   "source": [
    "betweenness_centrality = nx.betweenness_centrality(G, normalized=True)\n",
    "sorted_betweeness_centrality = sorted(betweenness_centrality.items(), key=lambda x: x[1], reverse=True)"
   ]
  },
  {
   "cell_type": "code",
   "execution_count": 13,
   "id": "fd57986c-104c-4f0a-bd7c-3a4d57c9f36e",
   "metadata": {
    "collapsed": false,
    "ExecuteTime": {
     "end_time": "2024-05-11T15:45:17.707082Z",
     "start_time": "2024-05-11T15:45:17.676414Z"
    }
   },
   "outputs": [
    {
     "name": "stdout",
     "output_type": "stream",
     "text": [
      "Top 10 betweeness centrality score: [('Basel SBB', 0.17604824035206496), ('Mulhouse', 0.147309900748999), ('Genève', 0.1354017345065535), ('Bellegarde-sur-Valserine', 0.11802205338580672), ('Lyon Part Dieu', 0.11680840037900542), ('Zürich HB', 0.11246807473512789), ('Basel Bad Bf', 0.06891126259224004), ('Strasbourg', 0.06623164365791197), ('St. Gallen', 0.057286264003561946), ('Bern', 0.05443407847191186)]\n",
      "Bottom 10 betweness centrality score: [('Gersau Förstli (Fähre)', 0.0), ('Beckenried Niederdorf (Fähre)', 0.0), ('Walenstadt (See)', 0.0), ('Weesen (See)', 0.0), ('Mols (See)', 0.0), ('Mühlehorn (See)', 0.0), ('Fällanden (See)', 0.0), ('Mönchaltorf (See)', 0.0), ('Solothurn (Schiff)', 0.0), ('Rheinau Kraftwerk', 0.0)]\n",
      "Rural stations: 346\n"
     ]
    }
   ],
   "source": [
    "num = 10\n",
    "\n",
    "top_betweenness_centrality = sorted_betweeness_centrality[0:num]\n",
    "bottom_betweenness_centrality = sorted_betweeness_centrality[-num:]\n",
    "\n",
    "print(f\"Top {num} betweeness centrality score: {top_betweenness_centrality}\")\n",
    "print(f\"Bottom {num} betweness centrality score: {bottom_betweenness_centrality}\")\n",
    "\n",
    "# find all nodes w a betweenness centrality of 0?\n",
    "min_centrality_nodes = [k for (k, v) in sorted_betweeness_centrality if v == 0]\n",
    "print(\"Rural stations:\", len(min_centrality_nodes))"
   ]
  },
  {
   "cell_type": "markdown",
   "id": "958dc65d-f60b-4fbd-92da-5f048525cafc",
   "metadata": {},
   "source": [
    "### Closeness Centrality\n",
    "\n",
    "A central node is one that is close on average to every other nodes."
   ]
  },
  {
   "cell_type": "code",
   "execution_count": 24,
   "id": "14999abf-1b88-4d46-8886-da3026c99865",
   "metadata": {
    "collapsed": false,
    "ExecuteTime": {
     "end_time": "2024-05-11T15:50:01.920084Z",
     "start_time": "2024-05-11T15:49:48.567900Z"
    }
   },
   "outputs": [],
   "source": [
    "closeness_centrality = nx.closeness_centrality(G)\n",
    "sorted_closeness_centrality = sorted(closeness_centrality.items(), key=lambda x: x[1], reverse=True)"
   ]
  },
  {
   "cell_type": "code",
   "execution_count": 23,
   "id": "141a55bd-7c13-4915-a90f-1675f68b3f49",
   "metadata": {
    "collapsed": false,
    "ExecuteTime": {
     "end_time": "2024-05-11T15:48:57.595981Z",
     "start_time": "2024-05-11T15:48:57.573336Z"
    }
   },
   "outputs": [
    {
     "name": "stdout",
     "output_type": "stream",
     "text": [
      "Top 10 closeness centrality score: [('Zürich HB', 0.22813387329516363), ('Genève', 0.2271055305930703), ('Basel SBB', 0.22559970730402645), ('Olten', 0.21814233146724887), ('Lausanne', 0.21707593014513704), ('Luzern', 0.21499174470061208), ('Brig', 0.21499174470061208), ('St. Gallen', 0.2129645099107185), ('Bellegarde-sur-Valserine', 0.21152021644773605), ('Mulhouse', 0.2112473311499483)]\n",
      "Bottom 10 closeness centrality score: [('Pied du barrage', 0.0002880184331797235), ('Les Montuires', 0.0002880184331797235), ('Friedrichshafen Fähre', 0.0002880184331797235), ('Romanshorn Autoquai', 0.0002880184331797235), ('Meilen Autoquai', 0.0002880184331797235), ('Horgen Autoquai', 0.0002880184331797235), ('Les Brenets (Lac)', 0.0002880184331797235), ('Saut-du-Doubs', 0.0002880184331797235), ('Gersau Förstli (Fähre)', 0.0002880184331797235), ('Beckenried Niederdorf (Fähre)', 0.0002880184331797235)]\n",
      "Rural stations: 64\n"
     ]
    }
   ],
   "source": [
    "num = 10\n",
    "\n",
    "top_closeness_centrality = sorted_closeness_centrality[0:num]\n",
    "bottom_closeness_centrality = sorted_closeness_centrality[-num:]\n",
    "\n",
    "print(f\"Top {num} closeness centrality score: {top_closeness_centrality}\")\n",
    "print(f\"Bottom {num} closeness centrality score: {bottom_closeness_centrality}\")\n",
    "\n",
    "# find all nodes w a closeness centrality of 0?\n",
    "min_closeness_nodes = [k for (k, v) in sorted_closeness_centrality if v < 0.001]\n",
    "print(\"Rural stations:\", len(min_closeness_nodes))"
   ]
  },
  {
   "attachments": {},
   "cell_type": "markdown",
   "id": "baba6e0e-b072-4b9f-aa5b-36fbf5ae8c55",
   "metadata": {},
   "source": [
    "### Adamic-Adar \n",
    "\n",
    "This measure refines the simple counting of vertex similarity by weighting less-connected neighbors more heavily.\n",
    "\n",
    "For example, two users on a social media who are friends with a famous person are (probably) less similar than those who are friends with a less famous person."
   ]
  },
  {
   "cell_type": "code",
   "execution_count": 10,
   "id": "d410827bdda99eaa",
   "metadata": {
    "ExecuteTime": {
     "end_time": "2024-04-14T18:25:17.425924Z",
     "start_time": "2024-04-14T18:24:31.357923Z"
    },
    "collapsed": false
   },
   "outputs": [
    {
     "name": "stdout",
     "output_type": "stream",
     "text": [
      "Minimum similarity:['Luzern', 'Laufenburg'] with 0\n",
      "maximum similarity:['Zürich HB', 'Rapperswil SG'] with 9.16882848421458\n"
     ]
    }
   ],
   "source": [
    "from itertools import combinations\n",
    "\n",
    "perms = list(combinations(G.nodes, 2))\n",
    "preds = nx.adamic_adar_index(G, perms)\n",
    "\n",
    "min_sim = np.inf\n",
    "min_tuple = []\n",
    "max_sim = 0\n",
    "max_tuple = []\n",
    "\n",
    "for u, v, p in preds:\n",
    "    if p < min_sim:\n",
    "        min_sim = p\n",
    "        min_tuple = [u,v]\n",
    "    elif p > max_sim:\n",
    "        max_sim = p\n",
    "        max_tuple = [u,v]\n",
    "        \n",
    "print(f\"Minimum similarity:{min_tuple} with {min_sim}\")\n",
    "print(f\"maximum similarity:{max_tuple} with {max_sim}\")"
   ]
  },
  {
   "cell_type": "markdown",
   "id": "549debd6-f425-4da7-885d-a4fbeccbce95",
   "metadata": {},
   "source": [
    "# Graph Visualization\n",
    "\n",
    "Visualization of the graph with networkx and geopandas on top of a map of Switzerland."
   ]
  },
  {
   "cell_type": "code",
   "execution_count": 11,
   "id": "978e0c6d-903e-4ec5-9649-a1f4bf8c9435",
   "metadata": {},
   "outputs": [],
   "source": [
    "# TODO: implement plot"
   ]
  }
 ],
 "metadata": {
  "kernelspec": {
   "display_name": "Python 3 (ipykernel)",
   "language": "python",
   "name": "python3"
  },
  "language_info": {
   "codemirror_mode": {
    "name": "ipython",
    "version": 3
   },
   "file_extension": ".py",
   "mimetype": "text/x-python",
   "name": "python",
   "nbconvert_exporter": "python",
   "pygments_lexer": "ipython3",
   "version": "3.10.12"
  }
 },
 "nbformat": 4,
 "nbformat_minor": 5
}
